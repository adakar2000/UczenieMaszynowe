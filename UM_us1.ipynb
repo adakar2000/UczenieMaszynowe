{
  "nbformat": 4,
  "nbformat_minor": 0,
  "metadata": {
    "colab": {
      "provenance": [],
      "authorship_tag": "ABX9TyNzk94k+OBBgQ9n6RmJoIh6",
      "include_colab_link": true
    },
    "kernelspec": {
      "name": "python3",
      "display_name": "Python 3"
    },
    "language_info": {
      "name": "python"
    }
  },
  "cells": [
    {
      "cell_type": "markdown",
      "metadata": {
        "id": "view-in-github",
        "colab_type": "text"
      },
      "source": [
        "<a href=\"https://colab.research.google.com/github/adakar2000/UczenieMaszynowe/blob/UseCase1/UM_us1.ipynb\" target=\"_parent\"><img src=\"https://colab.research.google.com/assets/colab-badge.svg\" alt=\"Open In Colab\"/></a>"
      ]
    },
    {
      "cell_type": "code",
      "source": [
        "import pandas as pd\n",
        "import numpy as np"
      ],
      "metadata": {
        "id": "dI2axBt9xe7H"
      },
      "execution_count": 14,
      "outputs": []
    },
    {
      "cell_type": "code",
      "source": [
        "df = pd.read_csv('/content/creditcard.csv', sep=\",\", index_col=[0]).reset_index(drop=True)\n",
        "df = df.dropna()"
      ],
      "metadata": {
        "id": "fg8-P-3jxoWH"
      },
      "execution_count": 28,
      "outputs": []
    },
    {
      "cell_type": "code",
      "source": [
        "X, y = df.drop(['Class', 'V22'], axis =1), df[['Class']]"
      ],
      "metadata": {
        "id": "zFHgyPxGvCe0"
      },
      "execution_count": 16,
      "outputs": []
    },
    {
      "cell_type": "code",
      "execution_count": 17,
      "metadata": {
        "id": "YWbtnG7qvpH6"
      },
      "outputs": [],
      "source": [
        "from sklearn.metrics import confusion_matrix\n",
        "from sklearn.neighbors import KNeighborsClassifier\n",
        "from sklearn.model_selection import train_test_split\n",
        "from sklearn.metrics import accuracy_score\n",
        "from sklearn.metrics import precision_score\n",
        "from sklearn.metrics import recall_score\n"
      ]
    },
    {
      "cell_type": "code",
      "source": [
        "X, y = df.drop('Class', axis =1), df[['Class']]"
      ],
      "metadata": {
        "id": "6bT-fu8r2GWu"
      },
      "execution_count": 30,
      "outputs": []
    },
    {
      "cell_type": "code",
      "source": [
        "X_train, X_test, y_train, y_test = train_test_split(X, y, test_size=0.3)"
      ],
      "metadata": {
        "id": "EAT4iJbI2mtv"
      },
      "execution_count": 31,
      "outputs": []
    },
    {
      "cell_type": "code",
      "source": [
        "print(X)\n"
      ],
      "metadata": {
        "colab": {
          "base_uri": "https://localhost:8080/"
        },
        "id": "gEM__4VmwETk",
        "outputId": "d9d548a2-0b0e-4af8-f1ef-7f58dd606e9d"
      },
      "execution_count": 32,
      "outputs": [
        {
          "output_type": "stream",
          "name": "stdout",
          "text": [
            "              V1        V2        V3        V4        V5        V6        V7  \\\n",
            "0      -1.359807 -0.072781  2.536347  1.378155 -0.338321  0.462388  0.239599   \n",
            "1       1.191857  0.266151  0.166480  0.448154  0.060018 -0.082361 -0.078803   \n",
            "2      -1.358354 -1.340163  1.773209  0.379780 -0.503198  1.800499  0.791461   \n",
            "3      -0.966272 -0.185226  1.792993 -0.863291 -0.010309  1.247203  0.237609   \n",
            "4      -1.158233  0.877737  1.548718  0.403034 -0.407193  0.095921  0.592941   \n",
            "...          ...       ...       ...       ...       ...       ...       ...   \n",
            "223852  2.032448 -0.022721 -1.429822  0.132413  0.351459 -0.541265  0.121327   \n",
            "223853 -0.841297  0.826026  0.653840  0.081422  0.944247 -0.946773  1.359069   \n",
            "223854  1.961248 -0.047037 -1.924226  0.403639  0.226717 -1.054853  0.125899   \n",
            "223855 -0.995266  0.689360 -0.129920 -1.019210 -0.004685 -0.737544  1.442358   \n",
            "223856  2.072290 -0.059782 -1.128102  0.382643 -0.078541 -1.131168  0.177014   \n",
            "\n",
            "              V8        V9       V10  ...       V20       V21       V22  \\\n",
            "0       0.098698  0.363787  0.090794  ...  0.251412 -0.018307  0.277838   \n",
            "1       0.085102 -0.255425 -0.166974  ... -0.069083 -0.225775 -0.638672   \n",
            "2       0.247676 -1.514654  0.207643  ...  0.524980  0.247998  0.771679   \n",
            "3       0.377436 -1.387024 -0.054952  ... -0.208038 -0.108300  0.005274   \n",
            "4      -0.270533  0.817739  0.753074  ...  0.408542 -0.009431  0.798278   \n",
            "...          ...       ...       ...  ...       ...       ...       ...   \n",
            "223852 -0.170956  0.236004  0.152011  ... -0.176510  0.304590  1.006161   \n",
            "223853 -0.366209 -0.620152 -0.639940  ...  0.037002  0.026863  0.219923   \n",
            "223854 -0.159526  0.557552 -0.321136  ... -0.194274  0.227594  0.644476   \n",
            "223855  0.007701 -0.191575 -0.470502  ... -0.523642 -0.038218 -0.128516   \n",
            "223856 -0.321608  0.562317  0.075504  ... -0.223778 -0.299667 -0.732141   \n",
            "\n",
            "             V23       V24       V25       V26       V27       V28  Amount  \n",
            "0      -0.110474  0.066928  0.128539 -0.189115  0.133558 -0.021053  149.62  \n",
            "1       0.101288 -0.339846  0.167170  0.125895 -0.008983  0.014724    2.69  \n",
            "2       0.909412 -0.689281 -0.327642 -0.139097 -0.055353 -0.059752  378.66  \n",
            "3      -0.190321 -1.175575  0.647376 -0.221929  0.062723  0.061458  123.50  \n",
            "4      -0.137458  0.141267 -0.206010  0.502292  0.219422  0.215153   69.99  \n",
            "...          ...       ...       ...       ...       ...       ...     ...  \n",
            "223852  0.027098  0.756044  0.257735 -0.160604 -0.021378 -0.060979    0.89  \n",
            "223853 -0.430668  0.011801  1.034302  0.079031 -0.103068  0.071854   29.99  \n",
            "223854 -0.090823 -0.445101  0.204299 -0.100417 -0.021754 -0.038624   41.66  \n",
            "223855  0.067555 -0.020188 -0.496044  0.137714 -0.423308 -0.157237  123.50  \n",
            "223856  0.322664 -0.112296 -0.281154  0.205301 -0.071423 -0.061553    1.98  \n",
            "\n",
            "[223857 rows x 29 columns]\n"
          ]
        }
      ]
    },
    {
      "cell_type": "code",
      "source": [
        "knn = KNeighborsClassifier(n_neighbors=3)\n",
        "knn.fit(X_train, y_train)\n",
        "y_pred=knn.predict(X_test)\n",
        "accuracy = accuracy_score(y_test, y_pred)\n",
        "y_pred = knn.predict(X_test)\n",
        "\n",
        "accuracy = accuracy_score(y_test, y_pred)\n",
        "precision = precision_score(y_test, y_pred)\n",
        "recall = recall_score(y_test, y_pred)\n",
        "\n",
        "print(\"Accuracy:\", accuracy)\n",
        "print(\"Precision:\", precision)\n",
        "print(\"Recall:\", recall)\n",
        "confusion_matrix(y_test, y_pred)"
      ],
      "metadata": {
        "colab": {
          "base_uri": "https://localhost:8080/"
        },
        "id": "nhpDPCkRxCE7",
        "outputId": "4897b2ef-efe8-48fb-a986-c67e601459eb"
      },
      "execution_count": 33,
      "outputs": [
        {
          "output_type": "stream",
          "name": "stderr",
          "text": [
            "/usr/local/lib/python3.10/dist-packages/sklearn/neighbors/_classification.py:215: DataConversionWarning: A column-vector y was passed when a 1d array was expected. Please change the shape of y to (n_samples,), for example using ravel().\n",
            "  return self._fit(X, y)\n"
          ]
        },
        {
          "output_type": "stream",
          "name": "stdout",
          "text": [
            "Accuracy: 0.9991065844724382\n",
            "Precision: 0.9302325581395349\n",
            "Recall: 0.5970149253731343\n"
          ]
        },
        {
          "output_type": "execute_result",
          "data": {
            "text/plain": [
              "array([[67018,     6],\n",
              "       [   54,    80]])"
            ]
          },
          "metadata": {},
          "execution_count": 33
        }
      ]
    },
    {
      "cell_type": "code",
      "source": [
        "from imblearn.over_sampling import SMOTE\n",
        "from collections import Counter\n",
        "oversample = SMOTE()\n",
        "X_train_os, y_train_os = oversample.fit_resample(X_train, y_train)\n",
        "counter = Counter(y)"
      ],
      "metadata": {
        "id": "0upE378Zu2ux"
      },
      "execution_count": 36,
      "outputs": []
    },
    {
      "cell_type": "code",
      "source": [
        "from sklearn.pipeline import Pipeline\n",
        "from imblearn.over_sampling import SMOTE\n",
        "from imblearn.under_sampling import RandomUnderSampler\n",
        "from sklearn.neighbors import KNeighborsClassifier\n",
        "from sklearn.decomposition import PCA"
      ],
      "metadata": {
        "id": "2fkw5i85y3wy"
      },
      "execution_count": 40,
      "outputs": []
    },
    {
      "cell_type": "code",
      "source": [
        "from imblearn .under_sampling import EditedNearestNeighbours\n",
        "pca = PCA(n_components=2)\n",
        "enn = EditedNearestNeighbours()\n",
        "smote = SMOTE (random_state=0)\n",
        "knn = KNeighborsClassifier(n_neighbors=1)"
      ],
      "metadata": {
        "id": "AbFsimZMzj9t"
      },
      "execution_count": 41,
      "outputs": []
    },
    {
      "cell_type": "code",
      "source": [
        "from imblearn.pipeline import make_pipeline\n",
        "model = make_pipeline(pca, enn, smote, knn)\n",
        "over = SMOTE(sampling_strategy=0.1)\n",
        "under = RandomUnderSampler(sampling_strategy=0.5)\n",
        "steps = [('over', over), ('under', under), ('model', model)]\n",
        "pipeline = make_pipeline(over,under,model)"
      ],
      "metadata": {
        "id": "rT8TN0fkx_hZ"
      },
      "execution_count": 47,
      "outputs": []
    },
    {
      "cell_type": "code",
      "source": [
        "from sklearn.metrics import classification_report\n",
        "pipeline.fit(X_train, y_train)\n",
        "y_pred = pipeline.predict(X_test)\n",
        "print(classification_report(y_test, y_pred))"
      ],
      "metadata": {
        "colab": {
          "base_uri": "https://localhost:8080/"
        },
        "id": "TNOi3NDv9Bnd",
        "outputId": "76f04ec1-eb8f-433b-c9ef-b9a1bfb470a0"
      },
      "execution_count": 52,
      "outputs": [
        {
          "output_type": "stream",
          "name": "stderr",
          "text": [
            "/usr/local/lib/python3.10/dist-packages/sklearn/neighbors/_classification.py:215: DataConversionWarning: A column-vector y was passed when a 1d array was expected. Please change the shape of y to (n_samples,), for example using ravel().\n",
            "  return self._fit(X, y)\n"
          ]
        },
        {
          "output_type": "stream",
          "name": "stdout",
          "text": [
            "              precision    recall  f1-score   support\n",
            "\n",
            "         0.0       1.00      0.95      0.98     67024\n",
            "         1.0       0.04      0.84      0.07       134\n",
            "\n",
            "    accuracy                           0.95     67158\n",
            "   macro avg       0.52      0.90      0.52     67158\n",
            "weighted avg       1.00      0.95      0.97     67158\n",
            "\n"
          ]
        }
      ]
    },
    {
      "cell_type": "code",
      "source": [
        "from sklearn.linear_model import LogisticRegression"
      ],
      "metadata": {
        "id": "d5NHN1SH9xf_"
      },
      "execution_count": 55,
      "outputs": []
    },
    {
      "cell_type": "code",
      "source": [
        "lr = LogisticRegression()\n",
        "lr.fit(X_train, y_train)\n",
        "y_pred=lr.predict(X_test)\n",
        "accuracy = accuracy_score(y_test, y_pred)\n",
        "y_pred = lr.predict(X_test)\n",
        "\n",
        "accuracy = accuracy_score(y_test, y_pred)\n",
        "precision = precision_score(y_test, y_pred)\n",
        "recall = recall_score(y_test, y_pred)\n",
        "\n",
        "print(\"Accuracy:\", accuracy)\n",
        "print(\"Precision:\", precision)\n",
        "print(\"Recall:\", recall)\n",
        "confusion_matrix(y_test, y_pred)"
      ],
      "metadata": {
        "colab": {
          "base_uri": "https://localhost:8080/"
        },
        "id": "I095-vEq-gPa",
        "outputId": "f96e8587-ec29-403f-f19e-cdf4e75114ca"
      },
      "execution_count": 59,
      "outputs": [
        {
          "output_type": "stream",
          "name": "stderr",
          "text": [
            "/usr/local/lib/python3.10/dist-packages/sklearn/utils/validation.py:1143: DataConversionWarning: A column-vector y was passed when a 1d array was expected. Please change the shape of y to (n_samples, ), for example using ravel().\n",
            "  y = column_or_1d(y, warn=True)\n"
          ]
        },
        {
          "output_type": "stream",
          "name": "stdout",
          "text": [
            "Accuracy: 0.9988981208493404\n",
            "Precision: 0.8571428571428571\n",
            "Recall: 0.5373134328358209\n"
          ]
        },
        {
          "output_type": "stream",
          "name": "stderr",
          "text": [
            "/usr/local/lib/python3.10/dist-packages/sklearn/linear_model/_logistic.py:458: ConvergenceWarning: lbfgs failed to converge (status=1):\n",
            "STOP: TOTAL NO. of ITERATIONS REACHED LIMIT.\n",
            "\n",
            "Increase the number of iterations (max_iter) or scale the data as shown in:\n",
            "    https://scikit-learn.org/stable/modules/preprocessing.html\n",
            "Please also refer to the documentation for alternative solver options:\n",
            "    https://scikit-learn.org/stable/modules/linear_model.html#logistic-regression\n",
            "  n_iter_i = _check_optimize_result(\n"
          ]
        },
        {
          "output_type": "execute_result",
          "data": {
            "text/plain": [
              "array([[67012,    12],\n",
              "       [   62,    72]])"
            ]
          },
          "metadata": {},
          "execution_count": 59
        }
      ]
    },
    {
      "cell_type": "markdown",
      "source": [
        "Z wagami\n"
      ],
      "metadata": {
        "id": "61q29lne-lui"
      }
    },
    {
      "cell_type": "code",
      "source": [
        "weights = {0:1.0, 1:1.0}\n",
        "lr = LogisticRegression(solver='lbfgs', class_weight=weights)\n",
        "lr.fit(X_train, y_train)\n",
        "y_pred=lr.predict(X_test)\n",
        "accuracy = accuracy_score(y_test, y_pred)\n",
        "y_pred = lr.predict(X_test)\n",
        "\n",
        "accuracy = accuracy_score(y_test, y_pred)\n",
        "precision = precision_score(y_test, y_pred)\n",
        "recall = recall_score(y_test, y_pred)\n",
        "\n",
        "print(\"Accuracy:\", accuracy)\n",
        "print(\"Precision:\", precision)\n",
        "print(\"Recall:\", recall)\n",
        "confusion_matrix(y_test, y_pred)"
      ],
      "metadata": {
        "colab": {
          "base_uri": "https://localhost:8080/"
        },
        "id": "boje350s7tea",
        "outputId": "6eedb35a-0678-42e4-db39-e701a3200bc6"
      },
      "execution_count": 62,
      "outputs": [
        {
          "output_type": "stream",
          "name": "stderr",
          "text": [
            "/usr/local/lib/python3.10/dist-packages/sklearn/utils/validation.py:1143: DataConversionWarning: A column-vector y was passed when a 1d array was expected. Please change the shape of y to (n_samples, ), for example using ravel().\n",
            "  y = column_or_1d(y, warn=True)\n"
          ]
        },
        {
          "output_type": "stream",
          "name": "stdout",
          "text": [
            "Accuracy: 0.9988981208493404\n",
            "Precision: 0.8571428571428571\n",
            "Recall: 0.5373134328358209\n"
          ]
        },
        {
          "output_type": "stream",
          "name": "stderr",
          "text": [
            "/usr/local/lib/python3.10/dist-packages/sklearn/linear_model/_logistic.py:458: ConvergenceWarning: lbfgs failed to converge (status=1):\n",
            "STOP: TOTAL NO. of ITERATIONS REACHED LIMIT.\n",
            "\n",
            "Increase the number of iterations (max_iter) or scale the data as shown in:\n",
            "    https://scikit-learn.org/stable/modules/preprocessing.html\n",
            "Please also refer to the documentation for alternative solver options:\n",
            "    https://scikit-learn.org/stable/modules/linear_model.html#logistic-regression\n",
            "  n_iter_i = _check_optimize_result(\n"
          ]
        },
        {
          "output_type": "execute_result",
          "data": {
            "text/plain": [
              "array([[67012,    12],\n",
              "       [   62,    72]])"
            ]
          },
          "metadata": {},
          "execution_count": 62
        }
      ]
    }
  ]
}